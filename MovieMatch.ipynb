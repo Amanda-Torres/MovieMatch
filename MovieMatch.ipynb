{
  "nbformat": 4,
  "nbformat_minor": 0,
  "metadata": {
    "colab": {
      "provenance": [],
      "toc_visible": true,
      "authorship_tag": "ABX9TyMRG7yUzngzh0Kj+lJEG8aJ",
      "include_colab_link": true
    },
    "kernelspec": {
      "name": "python3",
      "display_name": "Python 3"
    },
    "language_info": {
      "name": "python"
    }
  },
  "cells": [
    {
      "cell_type": "markdown",
      "metadata": {
        "id": "view-in-github",
        "colab_type": "text"
      },
      "source": [
        "<a href=\"https://colab.research.google.com/github/Amanda-Torres/MovieMatch/blob/main/MovieMatch.ipynb\" target=\"_parent\"><img src=\"https://colab.research.google.com/assets/colab-badge.svg\" alt=\"Open In Colab\"/></a>"
      ]
    },
    {
      "cell_type": "markdown",
      "source": [
        "# **Instalando o SDK do Google**"
      ],
      "metadata": {
        "id": "nxmFCY4IMR2E"
      }
    },
    {
      "cell_type": "code",
      "source": [
        "!pip install -q -U google-generativeai"
      ],
      "metadata": {
        "id": "tjE_S4qFMSaW"
      },
      "execution_count": 1,
      "outputs": []
    },
    {
      "cell_type": "markdown",
      "source": [
        "# **Instalando Bibliotecas**"
      ],
      "metadata": {
        "id": "VHGURunDMS8D"
      }
    },
    {
      "cell_type": "code",
      "source": [
        "import google.generativeai as genai\n",
        "import textwrap\n",
        "from google.colab import userdata\n",
        "from IPython.display import Markdown"
      ],
      "metadata": {
        "id": "cHOdCVvzMTFy"
      },
      "execution_count": 2,
      "outputs": []
    },
    {
      "cell_type": "markdown",
      "source": [
        "# **Configurações**"
      ],
      "metadata": {
        "id": "to_D6wkkMeTZ"
      }
    },
    {
      "cell_type": "code",
      "source": [
        "api_key = userdata.get('SECRET_KEY')\n",
        "genai.configure(api_key=api_key)"
      ],
      "metadata": {
        "id": "fPVGTx9tMhSy"
      },
      "execution_count": 3,
      "outputs": []
    },
    {
      "cell_type": "code",
      "source": [
        "for m in genai.list_models():\n",
        "  if 'generateContent' in m.supported_generation_methods:\n",
        "    print(m.name)"
      ],
      "metadata": {
        "colab": {
          "base_uri": "https://localhost:8080/",
          "height": 138
        },
        "id": "AMKaNZ75MhxC",
        "outputId": "d684cf9b-0edf-498a-f2bf-127bf138779c"
      },
      "execution_count": 4,
      "outputs": [
        {
          "output_type": "stream",
          "name": "stdout",
          "text": [
            "models/gemini-1.0-pro\n",
            "models/gemini-1.0-pro-001\n",
            "models/gemini-1.0-pro-latest\n",
            "models/gemini-1.0-pro-vision-latest\n",
            "models/gemini-1.5-pro-latest\n",
            "models/gemini-pro\n",
            "models/gemini-pro-vision\n"
          ]
        }
      ]
    },
    {
      "cell_type": "code",
      "source": [
        "generation_config = {\n",
        "  \"candidate_count\": 1,\n",
        "  \"temperature\": 0.5,\n",
        "}"
      ],
      "metadata": {
        "id": "j0JeG3LNMhpX"
      },
      "execution_count": 5,
      "outputs": []
    },
    {
      "cell_type": "code",
      "source": [
        "safety_settings={\n",
        "    'HATE': 'BLOCK_NONE',\n",
        "    'HARASSMENT': 'BLOCK_NONE',\n",
        "    'SEXUAL' : 'BLOCK_NONE',\n",
        "    'DANGEROUS' : 'BLOCK_NONE'\n",
        "    }"
      ],
      "metadata": {
        "id": "RE08lKgQMhhM"
      },
      "execution_count": 6,
      "outputs": []
    },
    {
      "cell_type": "code",
      "source": [
        "system_instruction = \"Você é um recomendador de filmes. Ira receber o nome de 2 filmes e me retornar recomendações que possuam as melhores cacacteristicas de ambos os filmes. Use uma linguagem leve e divertida incluindo emojis coerentes com os filmes\""
      ],
      "metadata": {
        "id": "X-B8xXHtMpyR"
      },
      "execution_count": 24,
      "outputs": []
    },
    {
      "cell_type": "code",
      "source": [
        "model = genai.GenerativeModel(model_name='gemini-1.5-pro-latest',\n",
        "                                  generation_config=generation_config,\n",
        "                                  safety_settings=safety_settings,\n",
        "                                  system_instruction=system_instruction)"
      ],
      "metadata": {
        "id": "RWF7ywwjMppA"
      },
      "execution_count": 25,
      "outputs": []
    },
    {
      "cell_type": "markdown",
      "source": [
        "# **Estilizando Print**\n"
      ],
      "metadata": {
        "id": "sC0LjroyMwwN"
      }
    },
    {
      "cell_type": "code",
      "source": [
        "def to_markdown(text):\n",
        "  text = text.replace('•', '  *')\n",
        "  return Markdown(textwrap.indent(text, '> ', predicate=lambda _: True))"
      ],
      "metadata": {
        "id": "Hq4KAkzoMuqo"
      },
      "execution_count": 26,
      "outputs": []
    },
    {
      "cell_type": "markdown",
      "source": [
        "# **Recebendo inputs**"
      ],
      "metadata": {
        "id": "7RrDDRDZM18o"
      }
    },
    {
      "cell_type": "code",
      "source": [
        "PrimeiroFilme = input('Primeiro Filme: ')\n",
        "SegundoFilme = input('Segundo Filme: ')"
      ],
      "metadata": {
        "colab": {
          "base_uri": "https://localhost:8080/"
        },
        "id": "bvcvYE1CM1B9",
        "outputId": "1c9e4d4a-f6b7-4dae-98f8-54915985cedd"
      },
      "execution_count": 44,
      "outputs": [
        {
          "name": "stdout",
          "output_type": "stream",
          "text": [
            "Primeiro Filme: Ilha do medo\n",
            "Segundo Filme: Como se fosse a primeira vez\n"
          ]
        }
      ]
    },
    {
      "cell_type": "markdown",
      "source": [
        "# **Treinando o modelo**"
      ],
      "metadata": {
        "id": "dNeV8TKNM5Lx"
      }
    },
    {
      "cell_type": "code",
      "source": [
        "prompt_parts = [\n",
        "  \"input: Procurando nemo e Uma linda mulher\",\n",
        "  \"output: **Características de Procurando Nemo e Uma Linda Mulher:**\\n\\n* **Procurando Nemo:**\\n    * Animação envolvente\\n    * História emocionante sobre família e resiliência\\n    * Personagens relacionáveis e cativantes\\n\\n* **Uma Linda Mulher:**\\n    * Romance comovente\\n    * Transformação emocionante do personagem principal\\n    * Exploração de temas sociais e econômicos\\n\\n**Recomendações que combinam as melhores características:**\\n\\n* **Shrek 2 (2004):**\\n    * Animação vibrante e personagens cativantes de Procurando Nemo\\n    * História romântica e transformacional de Uma Linda Mulher\\n\\n* **O Rei Leão (1994):**\\n    * Animação deslumbrante e música envolvente de Procurando Nemo\\n    * História emocionante sobre família, amor e responsabilidade, semelhante a Procurando Nemo\\n\\n* **A Princesa e o Sapo (2009):**\\n    * Personagens divertidos e cativantes de Procurando Nemo\\n    * Transformação inspiradora e história de amor comovente de Uma Linda Mulher\\n\\n* **WALL-E (2008):**\\n    * Animação revolucionária e história emocionante de Procurando Nemo\\n    * Exploração de temas ambientais e sociais, como em Uma Linda Mulher\\n\\n* **Aladdin (1992):**\\n    * Animação exuberante e trilha sonora cativante de Procurando Nemo\\n    * Personagens charmosos e uma história de amor comovente, reminiscente de Uma Linda Mulher\",\n",
        "  \"input: O resgate do soldado Ryan e Closer: Perto de mais\",\n",
        "  \"output: **Características de O Resgate do Soldado Ryan e Closer: Perto Demais:**\\n\\n* **O Resgate do Soldado Ryan:**\\n    * Ação intensa e realismo comovente\\n    * História poderosa sobre sacrifício e camaradagem\\n    * Personagens bem desenvolvidos e relacionamentos complexos\\n\\n* **Closer: Perto Demais:**\\n    * Diálogos afiados e perspicazes\\n    * Exploração crua de relacionamentos modernos e intimidade\\n    * Personagens flawed e moralmente ambíguos\\n\\n**Recomendações que combinam as melhores características:**\\n\\n* **Pecados Íntimos (2014):**\\n    * Ação tensa e reviravoltas emocionantes como em O Resgate do Soldado Ryan\\n    * Diálogos intensos e exploração de relacionamentos complexos como em Closer: Perto Demais\\n\\n* **A Vida dos Outros (2006):**\\n    * Suspense psicológico e tensão crescente como em O Resgate do Soldado Ryan\\n    * Exploração de temas morais e éticos como em Closer: Perto Demais\\n\\n* **1917 (2019):**\\n    * Ação imersiva e sequências de batalha arrebatadoras como em O Resgate do Soldado Ryan\\n    * Personagens relacionáveis e um vínculo fraterno comovente\\n\\n* **Garota Exemplar (2014):**\\n    * Mistério envolvente e reviravoltas imprevisíveis como em O Resgate do Soldado Ryan\\n    * Diálogos inteligentes e uma exploração sombria de relacionamentos como em Closer: Perto Demais\\n\\n* **Moonlight: Sob a Luz do Luar (2016):**\\n    * Drama íntimo e comovente com personagens complexos como em Closer: Perto Demais\\n    * Exploração de temas de identidade e masculinidade como em O Resgate do Soldado Ryan\",\n",
        "  f\"input: {PrimeiroFilme} e {SegundoFilme}\",\n",
        "  \"output: \"\n",
        "]"
      ],
      "metadata": {
        "id": "VM5Cj52wM800"
      },
      "execution_count": 45,
      "outputs": []
    },
    {
      "cell_type": "markdown",
      "source": [
        "# **Exibindo Resultados**"
      ],
      "metadata": {
        "id": "-KHsSeLYM9b3"
      }
    },
    {
      "cell_type": "code",
      "source": [
        "resposta = model.generate_content(prompt_parts)\n",
        "to_markdown(resposta.text)"
      ],
      "metadata": {
        "colab": {
          "base_uri": "https://localhost:8080/",
          "height": 603
        },
        "id": "mxQBKzOGM98h",
        "outputId": "80ae6a91-3e07-44fe-c641-5c1b48e79445"
      },
      "execution_count": 46,
      "outputs": [
        {
          "output_type": "execute_result",
          "data": {
            "text/plain": [
              "<IPython.core.display.Markdown object>"
            ],
            "text/markdown": "> Eita! Misturar o suspense de \"Ilha do Medo\" 😱 com o romance de \"Como Se Fosse a Primeira Vez\" 💖? Que tal embarcarmos nessa aventura cinematográfica? Prepare o coraçãozinho!\n> \n> **Características de \"Ilha do Medo\" e \"Como Se Fosse a Primeira Vez\":**\n> \n> * **Ilha do Medo:**\n>     * Suspense psicológico de tirar o fôlego 🤯\n>     * Trama intrincada com reviravoltas chocantes 🌪️\n>     * Atmosfera sombria e claustrofóbica 🌫️\n> \n> * **Como Se Fosse a Primeira Vez:**\n>     * Romance encantador e emocionante 🥰\n>     * Toques de humor e leveza 😄\n>     * História comovente sobre amor e memória 🧠\n> \n> **Recomendações que combinam as melhores características:**\n> \n> * **Amnésia (2000):** Assim como em \"Ilha do Medo\", o suspense psicológico te prende do começo ao fim, enquanto a busca por respostas e a fragilidade da memória evocam a doçura de \"Como Se Fosse a Primeira Vez\". Prepare-se para quebrar a cabeça! 🧠💥\n> \n> * **O Segredo dos Seus Olhos (2009):** Uma história de amor assombrada por um crime brutal. A paixão avassaladora se mistura à investigação, criando uma atmosfera tensa e emocionante. Prepare o lencinho! 😭\n> \n> * **Brilho Eterno de Uma Mente Sem Lembranças (2004):**  Um mergulho profundo na mente e nas emoções. Você vai se apaixonar pela jornada de Joel e Clementine, enquanto questiona a natureza do amor e da memória. 💖🧠\n> \n> * **A Pele Que Habito (2011):** Prepare-se para uma trama perturbadora e cheia de suspense. A busca obsessiva de um homem e a fragilidade da identidade te levarão a questionar os limites da ética e do amor. 😳\n> \n> * **Corra! (2017):** Um relacionamento aparentemente perfeito se transforma em um pesadelo psicológico. Você vai se surpreender com as reviravoltas e o clima de suspense, enquanto a temática do amor e da manipulação te deixa em choque. 😱💖\n> \n> E aí, pronto para maratonar? 🍿 Prepare a pipoca, as luzes, e boa sessão! 😉🎬 \n"
          },
          "metadata": {},
          "execution_count": 46
        }
      ]
    }
  ]
}